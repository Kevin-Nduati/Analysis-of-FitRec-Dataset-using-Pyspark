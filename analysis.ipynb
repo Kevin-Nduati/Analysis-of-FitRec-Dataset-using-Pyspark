{
 "cells": [
  {
   "cell_type": "code",
   "execution_count": 2,
   "metadata": {},
   "outputs": [
    {
     "name": "stderr",
     "output_type": "stream",
     "text": [
      "                                                                                \r"
     ]
    }
   ],
   "source": [
    "import os\n",
    "import sys\n",
    "import pandas as pd\n",
    "import numpy as np\n",
    "import matplotlib.pyplot as plt\n",
    "import matplotlib.ticker as mtick\n",
    "import matplotlib\n",
    "from mpl_toolkits.mplot3d import Axes3D\n",
    "import math\n",
    "from IPython.core.interactiveshell import InteractiveShell\n",
    "from datetime import *\n",
    "import statistics as stats\n",
    "\n",
    "InteractiveShell.ast_node_interactivity = 'all'\n",
    "%matplotlib inline\n",
    "\n",
    "\n",
    "## pyspark\n",
    "import pyspark\n",
    "from pyspark.rdd import RDD\n",
    "from pyspark.sql import Row, DataFrame, SparkSession, SQLContext, functions\n",
    "from pyspark.sql.functions import lit, desc, col, size, array_contains, isnan, udf, hour, array_min, array_max, countDistinct\n",
    "from pyspark.sql.types import *\n",
    "\n",
    "MAX_MEMORY = '15G'\n",
    "# initialize a spark session\n",
    "conf = pyspark.SparkConf().setMaster('local[*]')\\\n",
    "                .set('spark.executor.heartbeatInterval', 10000)\\\n",
    "                .set('spark.network.timeout', 10000)\\\n",
    "                .set('spark.core.connection.ack.wait.timeout', '3600')\\\n",
    "                .set('spark.executor.memory', MAX_MEMORY)\\\n",
    "                .set('spark.driver.memory', MAX_MEMORY)\n",
    "\n",
    "def init_spark():\n",
    "    spark = SparkSession\\\n",
    "                .builder\\\n",
    "                .appName('FitRec Dataset')\\\n",
    "                .config(conf=conf)\\\n",
    "                .getOrCreate()\n",
    "    return spark\n",
    "\n",
    "spark = init_spark()\n",
    "df = spark.read.json('endomondoHR_proper.json', mode='DROPMALFORMED')"
   ]
  },
  {
   "cell_type": "code",
   "execution_count": 3,
   "metadata": {},
   "outputs": [
    {
     "name": "stdout",
     "output_type": "stream",
     "text": [
      "root\n",
      " |-- altitude: array (nullable = true)\n",
      " |    |-- element: double (containsNull = true)\n",
      " |-- gender: string (nullable = true)\n",
      " |-- heart_rate: array (nullable = true)\n",
      " |    |-- element: long (containsNull = true)\n",
      " |-- id: long (nullable = true)\n",
      " |-- latitude: array (nullable = true)\n",
      " |    |-- element: double (containsNull = true)\n",
      " |-- longitude: array (nullable = true)\n",
      " |    |-- element: double (containsNull = true)\n",
      " |-- speed: array (nullable = true)\n",
      " |    |-- element: double (containsNull = true)\n",
      " |-- sport: string (nullable = true)\n",
      " |-- timestamp: array (nullable = true)\n",
      " |    |-- element: long (containsNull = true)\n",
      " |-- url: string (nullable = true)\n",
      " |-- userId: long (nullable = true)\n",
      "\n",
      "None\n"
     ]
    }
   ],
   "source": [
    "print(df.printSchema())"
   ]
  },
  {
   "cell_type": "code",
   "execution_count": 6,
   "metadata": {},
   "outputs": [
    {
     "name": "stderr",
     "output_type": "stream",
     "text": [
      "                                                                                \r"
     ]
    },
    {
     "data": {
      "text/plain": [
       "55635"
      ]
     },
     "execution_count": 6,
     "metadata": {},
     "output_type": "execute_result"
    }
   ],
   "source": [
    "df.count()"
   ]
  },
  {
   "cell_type": "markdown",
   "metadata": {},
   "source": [
    "# Detect missing values and abnormal zeros"
   ]
  },
  {
   "cell_type": "code",
   "execution_count": 8,
   "metadata": {},
   "outputs": [
    {
     "name": "stderr",
     "output_type": "stream",
     "text": [
      "                                                                                \r"
     ]
    },
    {
     "data": {
      "text/html": [
       "<div>\n",
       "<style scoped>\n",
       "    .dataframe tbody tr th:only-of-type {\n",
       "        vertical-align: middle;\n",
       "    }\n",
       "\n",
       "    .dataframe tbody tr th {\n",
       "        vertical-align: top;\n",
       "    }\n",
       "\n",
       "    .dataframe thead th {\n",
       "        text-align: right;\n",
       "    }\n",
       "</style>\n",
       "<table border=\"1\" class=\"dataframe\">\n",
       "  <thead>\n",
       "    <tr style=\"text-align: right;\">\n",
       "      <th></th>\n",
       "      <th>0</th>\n",
       "    </tr>\n",
       "  </thead>\n",
       "  <tbody>\n",
       "    <tr>\n",
       "      <th>0</th>\n",
       "      <td>0</td>\n",
       "    </tr>\n",
       "  </tbody>\n",
       "</table>\n",
       "</div>"
      ],
      "text/plain": [
       "   0\n",
       "0  0"
      ]
     },
     "execution_count": 8,
     "metadata": {},
     "output_type": "execute_result"
    }
   ],
   "source": [
    "string_columns = ['gender', 'sport', 'url']\n",
    "numeric_columns = ['id', 'userId']\n",
    "array_columns = ['altitude', 'heart_rate', 'latitude', 'longitude', 'speed', 'timestamp']\n",
    "missing_values = {}\n",
    "for index,column in enumerate(df.columns):\n",
    "    if column in string_columns:\n",
    "        missing_count = df.filter(col(column).eqNullSafe(None) | col(column).isNull()).count()\n",
    "        missing_values.update({column: missing_count})\n",
    "    if column in numeric_columns:\n",
    "        missing_count = df.where(col(column).isin([0, None, np.nan])).count()\n",
    "        missing_values.update({column: missing_count})\n",
    "    if column in array_columns:\n",
    "        missing_count = df.filter(array_contains(df[column], 0) | array_contains(df[column], np.nan)).count()\n",
    "        missing_values.update({column: missing_count})\n",
    "\n",
    "missing_df = pd.DataFrame.from_dict([missing_count])\n",
    "missing_df"
   ]
  },
  {
   "cell_type": "code",
   "execution_count": null,
   "metadata": {},
   "outputs": [],
   "source": [
    "# create a new column to count the number of timestamps recorded per row/workout\n",
    "df = df.withColumn('perWorkoutRecordCount', size(col('timestamp')))\n",
    "\n",
    "def user_activity_workout_summarize(df):\n",
    "    user_count = format(df.select)"
   ]
  }
 ],
 "metadata": {
  "kernelspec": {
   "display_name": "Python 3.9.12 ('spark_env': venv)",
   "language": "python",
   "name": "python3"
  },
  "language_info": {
   "codemirror_mode": {
    "name": "ipython",
    "version": 3
   },
   "file_extension": ".py",
   "mimetype": "text/x-python",
   "name": "python",
   "nbconvert_exporter": "python",
   "pygments_lexer": "ipython3",
   "version": "3.9.12"
  },
  "orig_nbformat": 4,
  "vscode": {
   "interpreter": {
    "hash": "797d1db9aa1fa945185733b70eb53824300707d84cb71d78623b0ee97b0c021b"
   }
  }
 },
 "nbformat": 4,
 "nbformat_minor": 2
}
